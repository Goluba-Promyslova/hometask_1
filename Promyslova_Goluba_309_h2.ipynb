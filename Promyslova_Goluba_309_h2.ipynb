{
 "cells": [
  {
   "cell_type": "code",
   "execution_count": 9,
   "metadata": {},
   "outputs": [
    {
     "name": "stdout",
     "output_type": "stream",
     "text": [
      "[[0.53518908 0.01484446 0.9227161 ]\n",
      " [0.31713623 0.29977403 0.77454971]\n",
      " [0.73670288 0.15978546 0.20037171]\n",
      " [0.34285463 0.22323448 0.1506905 ]\n",
      " [0.62349298 0.958637   0.93407433]\n",
      " [0.36317492 0.70592402 0.17837016]\n",
      " [0.14426974 0.43160656 0.82707636]\n",
      " [0.75192183 0.85443452 0.47627729]\n",
      " [0.63798263 0.90914682 0.91960912]\n",
      " [0.6744545  0.45289611 0.86921937]] \n",
      "\n",
      "0.5351890812784043\n",
      "0.31713623360150445\n",
      "0.7367028830774887\n",
      "0.34285462623768104\n",
      "0.6234929795552313\n",
      "0.36317492455870826\n",
      "0.4316065635455598\n",
      "0.4762772916327781\n",
      "0.6379826336604596\n",
      "0.45289610827085924\n"
     ]
    }
   ],
   "source": [
    "# 1\n",
    "import numpy as np\n",
    "a = np.random.rand(10, 3)\n",
    "print(a, '\\n')\n",
    "for string in a:\n",
    "    tmp = 100\n",
    "    for i in string:\n",
    "        if abs(i - 0.5) < abs(tmp - 0.5):\n",
    "            tmp = i\n",
    "    print(tmp) "
   ]
  },
  {
   "cell_type": "code",
   "execution_count": 11,
   "metadata": {},
   "outputs": [
    {
     "name": "stdout",
     "output_type": "stream",
     "text": [
      "[[0.33254456 0.25046318 0.41379819 0.49658453 0.38313707 0.71379146]\n",
      " [0.17138726 0.19556042 0.44814447 0.14796888 0.10637734 0.05997172]\n",
      " [0.48232619 0.56335164 0.91991088 0.62843502 0.27590505 0.85055986]\n",
      " [0.59754482 0.64509479 0.96061722 0.88638516 0.17180028 0.1474762 ]\n",
      " [0.10810771 0.52498035 0.30934475 0.23501944 0.68899075 0.34216788]\n",
      " [0.85444045 0.30461322 0.3972838  0.39866657 0.56096097 0.98182886]] \n",
      "\n",
      "23.960539610331438\n",
      "5.775249013546853\n",
      "12.026997823449081\n",
      "23.038076534478783\n",
      "20.762041925123764\n",
      "58.32405702392566\n"
     ]
    }
   ],
   "source": [
    "# 2\n",
    "import numpy as np\n",
    "a = np.random.rand(6,6)\n",
    "print(a, '\\n')\n",
    "for i in range(6):\n",
    "    print(a[i].sum() / a[:,i].min())"
   ]
  },
  {
   "cell_type": "code",
   "execution_count": 13,
   "metadata": {},
   "outputs": [
    {
     "name": "stdout",
     "output_type": "stream",
     "text": [
      "7\n"
     ]
    }
   ],
   "source": [
    "# 3\n",
    "import numpy as np\n",
    "x = np.array([6, 2, 0, 3, 0, 0, 5, 7, 0])\n",
    "max = 0\n",
    "for i in range(0, len(x) - 1):\n",
    "    if x[i + 1] == 0:\n",
    "        if x[i] > max:\n",
    "            max = x[i]\n",
    "print(max)"
   ]
  },
  {
   "cell_type": "code",
   "execution_count": 12,
   "metadata": {},
   "outputs": [
    {
     "name": "stdout",
     "output_type": "stream",
     "text": [
      "[2. 2. 2. 2. 1. 4. 1. 1. 2. 1.]\n"
     ]
    }
   ],
   "source": [
    "# 4\n",
    "import numpy as np\n",
    "x = np.ones(10)\n",
    "i = np.array([0, 1, 2, 3, 5, 5, 5, 8])\n",
    "for j in i:\n",
    "    x[j] += 1\n",
    "print(x)"
   ]
  },
  {
   "cell_type": "code",
   "execution_count": 17,
   "metadata": {},
   "outputs": [
    {
     "name": "stdout",
     "output_type": "stream",
     "text": [
      "[[-1.42456879 -1.73899919 -0.43480148]\n",
      " [-1.28103541 -1.73899919  1.19570407]\n",
      " [-1.3528021  -1.70082976 -1.71591298]\n",
      " [-1.13750203 -1.70082976  1.04041783]\n",
      " [-0.56336851 -1.66266033 -0.39597992]\n",
      " [-1.20926872 -1.66266033  1.00159627]\n",
      " [-0.27630176 -1.62449091 -1.71591298]]\n"
     ]
    }
   ],
   "source": [
    "# K-means\n",
    "\n",
    "import numpy.random \n",
    "from scipy.spatial import distance\n",
    "import matplotlib.pyplot as plt\n",
    "\n",
    "url = 'https://raw.githubusercontent.com/sharmaroshan/Clustering-of-Mall-Customers/master/Mall_Customers.csv'\n",
    "data = np.loadtxt(url, delimiter = ',', dtype = object, skiprows = 1)\n",
    "data[:5] #CustomerID, Genre, Age, Annual Income (k$), Spending Score (1-100)\n",
    "\n",
    "data[:, 1] = data[:, 1] == 'Male'\n",
    "data = data.astype(float)\n",
    "data[:5]\n",
    "\n",
    "#take data in two-dimensional array\n",
    "def DataArray(data): \n",
    "    mean = data.mean(axis=0)\n",
    "    std = data.std(axis=0)\n",
    "    return (data - mean) / std\n",
    "Array_of_data = DataArray(data[:,2:])\n",
    "print(Array_of_data[:7])"
   ]
  },
  {
   "cell_type": "code",
   "execution_count": 30,
   "metadata": {},
   "outputs": [
    {
     "ename": "NameError",
     "evalue": "name 'obs' is not defined",
     "output_type": "error",
     "traceback": [
      "\u001b[0;31m---------------------------------------------------------------------------\u001b[0m",
      "\u001b[0;31mNameError\u001b[0m                                 Traceback (most recent call last)",
      "\u001b[0;32m<ipython-input-30-2dde0e0b0dbd>\u001b[0m in \u001b[0;36m<module>\u001b[0;34m\u001b[0m\n\u001b[1;32m     22\u001b[0m     \u001b[0;32mreturn\u001b[0m \u001b[0mdat\u001b[0m\u001b[0;34m,\u001b[0m \u001b[0mfut_sh\u001b[0m\u001b[0;34m\u001b[0m\u001b[0;34m\u001b[0m\u001b[0m\n\u001b[1;32m     23\u001b[0m \u001b[0;34m\u001b[0m\u001b[0m\n\u001b[0;32m---> 24\u001b[0;31m \u001b[0mdat\u001b[0m\u001b[0;34m,\u001b[0m \u001b[0mshift\u001b[0m \u001b[0;34m=\u001b[0m \u001b[0mkmeans\u001b[0m\u001b[0;34m(\u001b[0m\u001b[0mArray_of_data\u001b[0m\u001b[0;34m[\u001b[0m\u001b[0;34m:\u001b[0m\u001b[0;34m,\u001b[0m\u001b[0;34m[\u001b[0m\u001b[0;36m1\u001b[0m\u001b[0;34m,\u001b[0m\u001b[0;36m2\u001b[0m\u001b[0;34m]\u001b[0m\u001b[0;34m]\u001b[0m\u001b[0;34m,\u001b[0m \u001b[0;36m5\u001b[0m\u001b[0;34m)\u001b[0m\u001b[0;34m\u001b[0m\u001b[0;34m\u001b[0m\u001b[0m\n\u001b[0m",
      "\u001b[0;32m<ipython-input-19-f8b3271c231e>\u001b[0m in \u001b[0;36mkmeans\u001b[0;34m(tem, k, iter, eps)\u001b[0m\n\u001b[1;32m     10\u001b[0m \u001b[0;32mdef\u001b[0m \u001b[0mkmeans\u001b[0m\u001b[0;34m(\u001b[0m\u001b[0mtem\u001b[0m\u001b[0;34m,\u001b[0m \u001b[0mk\u001b[0m\u001b[0;34m,\u001b[0m \u001b[0miter\u001b[0m \u001b[0;34m=\u001b[0m \u001b[0;36m20\u001b[0m\u001b[0;34m,\u001b[0m \u001b[0meps\u001b[0m \u001b[0;34m=\u001b[0m \u001b[0;36m1e-10\u001b[0m\u001b[0;34m)\u001b[0m\u001b[0;34m:\u001b[0m\u001b[0;34m\u001b[0m\u001b[0;34m\u001b[0m\u001b[0m\n\u001b[1;32m     11\u001b[0m     \u001b[0;32mif\u001b[0m \u001b[0mtype\u001b[0m\u001b[0;34m(\u001b[0m\u001b[0mk\u001b[0m\u001b[0;34m)\u001b[0m \u001b[0;34m==\u001b[0m \u001b[0mint\u001b[0m\u001b[0;34m:\u001b[0m\u001b[0;34m\u001b[0m\u001b[0;34m\u001b[0m\u001b[0m\n\u001b[0;32m---> 12\u001b[0;31m         \u001b[0mdat\u001b[0m \u001b[0;34m=\u001b[0m \u001b[0mobs\u001b[0m\u001b[0;34m[\u001b[0m\u001b[0mnp\u001b[0m\u001b[0;34m.\u001b[0m\u001b[0mrandom\u001b[0m\u001b[0;34m.\u001b[0m\u001b[0mchoice\u001b[0m\u001b[0;34m(\u001b[0m\u001b[0mrange\u001b[0m\u001b[0;34m(\u001b[0m\u001b[0mlen\u001b[0m\u001b[0;34m(\u001b[0m\u001b[0mtem\u001b[0m\u001b[0;34m)\u001b[0m\u001b[0;34m)\u001b[0m\u001b[0;34m,\u001b[0m \u001b[0mk\u001b[0m\u001b[0;34m,\u001b[0m \u001b[0;32mFalse\u001b[0m\u001b[0;34m)\u001b[0m\u001b[0;34m]\u001b[0m\u001b[0;34m\u001b[0m\u001b[0;34m\u001b[0m\u001b[0m\n\u001b[0m\u001b[1;32m     13\u001b[0m     \u001b[0;32melse\u001b[0m\u001b[0;34m:\u001b[0m\u001b[0;34m\u001b[0m\u001b[0;34m\u001b[0m\u001b[0m\n\u001b[1;32m     14\u001b[0m         \u001b[0mcode_book\u001b[0m \u001b[0;34m=\u001b[0m \u001b[0mk_or_guess\u001b[0m\u001b[0;34m\u001b[0m\u001b[0;34m\u001b[0m\u001b[0m\n",
      "\u001b[0;31mNameError\u001b[0m: name 'obs' is not defined"
     ]
    }
   ],
   "source": [
    "def Reassignment (tem, dat):\n",
    "    data_1 = np.empty((len(dat),len(dat[0])))\n",
    "    sh = distance.cdist(tem, dat, 'sqeuclidean') # shift from center\n",
    "    temp = np.hstack((tem, sh.argmin(axis=1).reshape(len(sh),1)))\n",
    "    for i in range(len(dat)):\n",
    "        dat_1[i] = np.vstack(row for row in temp if row[- 1] == i).mean(axis = 0)[:-1]\n",
    "        \n",
    "    return data_1\n",
    "\n",
    "def Kmeans(tem, k, iter = 20, eps = 1e-10):\n",
    "    if type(k) == int:\n",
    "        dat = tem[np.random.choice(range(len(tem)), k, False)]\n",
    "    else:\n",
    "        dat = k\n",
    "    prev_sh = - 1\n",
    "    fut_sh = distance.cdist(tem, dat, 'sqeuclidean').min(axis = 1).sum()\n",
    "    while abs(fut_sh - prev_sh) > eps:\n",
    "        dat = Reassigment (tem, dat)\n",
    "        prev_distortion = fut_sh\n",
    "        cur_distortion = distance.cdist(tem, dat, 'sqeuclidean').min(axis = 1).sum()\n",
    "        \n",
    "    return dat, fut_sh  \n",
    "\n",
    "dat, shift = kmeans(Array_of_data[:,[1,2]], 5)"
   ]
  },
  {
   "cell_type": "code",
   "execution_count": null,
   "metadata": {},
   "outputs": [],
   "source": []
  }
 ],
 "metadata": {
  "kernelspec": {
   "display_name": "Python 3",
   "language": "python",
   "name": "python3"
  },
  "language_info": {
   "codemirror_mode": {
    "name": "ipython",
    "version": 3
   },
   "file_extension": ".py",
   "mimetype": "text/x-python",
   "name": "python",
   "nbconvert_exporter": "python",
   "pygments_lexer": "ipython3",
   "version": "3.8.3"
  }
 },
 "nbformat": 4,
 "nbformat_minor": 4
}
